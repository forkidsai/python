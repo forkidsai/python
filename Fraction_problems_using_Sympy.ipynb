{
  "nbformat": 4,
  "nbformat_minor": 0,
  "metadata": {
    "colab": {
      "name": "Fraction problems using Sympy.ipynb",
      "provenance": [],
      "authorship_tag": "ABX9TyMEepW9RY+rVoHGCkyPZ8b+",
      "include_colab_link": true
    },
    "kernelspec": {
      "name": "python3",
      "display_name": "Python 3"
    }
  },
  "cells": [
    {
      "cell_type": "markdown",
      "metadata": {
        "id": "view-in-github",
        "colab_type": "text"
      },
      "source": [
        "<a href=\"https://colab.research.google.com/github/forkidsai/python/blob/master/Fraction_problems_using_Sympy.ipynb\" target=\"_parent\"><img src=\"https://colab.research.google.com/assets/colab-badge.svg\" alt=\"Open In Colab\"/></a>"
      ]
    },
    {
      "cell_type": "markdown",
      "metadata": {
        "id": "DvPUPvAXwEMv",
        "colab_type": "text"
      },
      "source": [
        "# Outline :-\n",
        "\n",
        "- Addition of a Fraction with a Whole Number\n",
        "- Addition of Factions with Different Denominators\n",
        "- Subtraction of Fraction with a Whole Number\n",
        "- Subtraction of Fraction with Different Denominators\n",
        "- Multiplication of Fraction with a Whole Number\n",
        "- Multiplication of Fraction with another Fraction\n",
        "- Division of Fraction by whole Number\n",
        "- Division of Fraction by another Fraction"
      ]
    },
    {
      "cell_type": "markdown",
      "metadata": {
        "id": "8_AFvLdNxQ22",
        "colab_type": "text"
      },
      "source": [
        "### Addition of a Fraction with a Whole Number"
      ]
    },
    {
      "cell_type": "markdown",
      "metadata": {
        "id": "fhVTK3WSygaa",
        "colab_type": "text"
      },
      "source": [
        "(i) $\\frac{10}{11}$ + 8"
      ]
    },
    {
      "cell_type": "code",
      "metadata": {
        "id": "jLkQpTMvwDMN",
        "colab_type": "code",
        "colab": {}
      },
      "source": [
        ""
      ],
      "execution_count": null,
      "outputs": []
    },
    {
      "cell_type": "code",
      "metadata": {
        "id": "E8OywjrruHjd",
        "colab_type": "code",
        "colab": {}
      },
      "source": [
        ""
      ],
      "execution_count": null,
      "outputs": []
    },
    {
      "cell_type": "markdown",
      "metadata": {
        "id": "AcVP_WfUx6y9",
        "colab_type": "text"
      },
      "source": [
        "(ii) $\\frac{8}{9}$ + 4"
      ]
    },
    {
      "cell_type": "code",
      "metadata": {
        "id": "_oGxh8xByF0l",
        "colab_type": "code",
        "colab": {}
      },
      "source": [
        ""
      ],
      "execution_count": null,
      "outputs": []
    },
    {
      "cell_type": "markdown",
      "metadata": {
        "id": "wiPGHHxFyLG6",
        "colab_type": "text"
      },
      "source": [
        "### Addition of Factions with Different Denominators"
      ]
    },
    {
      "cell_type": "markdown",
      "metadata": {
        "id": "t5PQIcVCykOs",
        "colab_type": "text"
      },
      "source": [
        "(i) $\\frac{1}{4}$ + $\\frac{1}{8}$"
      ]
    },
    {
      "cell_type": "code",
      "metadata": {
        "id": "sh_Vu08OzBTP",
        "colab_type": "code",
        "colab": {}
      },
      "source": [
        ""
      ],
      "execution_count": null,
      "outputs": []
    },
    {
      "cell_type": "markdown",
      "metadata": {
        "id": "mjd_wlAWzD2W",
        "colab_type": "text"
      },
      "source": [
        "(ii) $\\frac{1}{3}$ + $\\frac{3}{8}$"
      ]
    },
    {
      "cell_type": "code",
      "metadata": {
        "id": "Z70Dh_XqzU7m",
        "colab_type": "code",
        "colab": {}
      },
      "source": [
        ""
      ],
      "execution_count": null,
      "outputs": []
    },
    {
      "cell_type": "markdown",
      "metadata": {
        "id": "qw-CQQh51JWb",
        "colab_type": "text"
      },
      "source": [
        "### Subtraction of Fraction with a Whole Number"
      ]
    },
    {
      "cell_type": "markdown",
      "metadata": {
        "id": "IzYs2OPs1P3c",
        "colab_type": "text"
      },
      "source": [
        "(i) 9 -  $\\frac{4}{9}$"
      ]
    },
    {
      "cell_type": "code",
      "metadata": {
        "id": "Buqqz6tZzSo8",
        "colab_type": "code",
        "colab": {}
      },
      "source": [
        ""
      ],
      "execution_count": null,
      "outputs": []
    },
    {
      "cell_type": "markdown",
      "metadata": {
        "id": "7opt07KX1iPR",
        "colab_type": "text"
      },
      "source": [
        "(ii) 15 -  $\\frac{8}{10}$"
      ]
    },
    {
      "cell_type": "code",
      "metadata": {
        "id": "kLAh_6Ur1r5U",
        "colab_type": "code",
        "colab": {}
      },
      "source": [
        ""
      ],
      "execution_count": null,
      "outputs": []
    },
    {
      "cell_type": "markdown",
      "metadata": {
        "id": "yRt-h33r1tPE",
        "colab_type": "text"
      },
      "source": [
        "### Subtraction of Fraction with Different Denominators"
      ]
    },
    {
      "cell_type": "markdown",
      "metadata": {
        "id": "SAhDHBdK1189",
        "colab_type": "text"
      },
      "source": [
        "(i)  $\\frac{3}{4}$ -  $\\frac{1}{2}$"
      ]
    },
    {
      "cell_type": "code",
      "metadata": {
        "id": "5ojrLeda11Ox",
        "colab_type": "code",
        "colab": {}
      },
      "source": [
        ""
      ],
      "execution_count": null,
      "outputs": []
    },
    {
      "cell_type": "markdown",
      "metadata": {
        "id": "K9auivxR2JQW",
        "colab_type": "text"
      },
      "source": [
        "(ii)  $\\frac{2}{3}$ -  $\\frac{2}{9}$ - $\\frac{1}{3}$"
      ]
    },
    {
      "cell_type": "code",
      "metadata": {
        "id": "mzHOK--y2XoO",
        "colab_type": "code",
        "colab": {}
      },
      "source": [
        ""
      ],
      "execution_count": null,
      "outputs": []
    },
    {
      "cell_type": "markdown",
      "metadata": {
        "id": "rhLrt9cj2ZGf",
        "colab_type": "text"
      },
      "source": [
        "### Multiplication of Fraction with a Whole Number"
      ]
    },
    {
      "cell_type": "markdown",
      "metadata": {
        "id": "zB3oU1Ps2hfU",
        "colab_type": "text"
      },
      "source": [
        "(i) 3 $\\times\\frac{1}{2}$"
      ]
    },
    {
      "cell_type": "code",
      "metadata": {
        "id": "ayI424z72gh7",
        "colab_type": "code",
        "colab": {}
      },
      "source": [
        ""
      ],
      "execution_count": null,
      "outputs": []
    },
    {
      "cell_type": "markdown",
      "metadata": {
        "id": "71Qi1HrZ21Rt",
        "colab_type": "text"
      },
      "source": [
        "(ii) 7 $\\times\\frac{20}{15}$"
      ]
    },
    {
      "cell_type": "code",
      "metadata": {
        "id": "4jUooz4l28pp",
        "colab_type": "code",
        "colab": {}
      },
      "source": [
        ""
      ],
      "execution_count": null,
      "outputs": []
    },
    {
      "cell_type": "markdown",
      "metadata": {
        "id": "KfXBc1WM2-Df",
        "colab_type": "text"
      },
      "source": [
        "### Multiplication of Fraction with another Fraction"
      ]
    },
    {
      "cell_type": "markdown",
      "metadata": {
        "id": "Ct_HE6u73ESS",
        "colab_type": "text"
      },
      "source": [
        "(i) $\\frac{}{}$"
      ]
    },
    {
      "cell_type": "code",
      "metadata": {
        "id": "JPMEb2Gj3C9I",
        "colab_type": "code",
        "colab": {}
      },
      "source": [
        ""
      ],
      "execution_count": null,
      "outputs": []
    }
  ]
}