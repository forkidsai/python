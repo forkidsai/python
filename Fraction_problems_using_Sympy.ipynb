{
  "nbformat": 4,
  "nbformat_minor": 0,
  "metadata": {
    "colab": {
      "name": "Fraction problems using Sympy.ipynb",
      "provenance": [],
      "authorship_tag": "ABX9TyMF2YQThwx53nf02CWRm8SP",
      "include_colab_link": true
    },
    "kernelspec": {
      "name": "python3",
      "display_name": "Python 3"
    }
  },
  "cells": [
    {
      "cell_type": "markdown",
      "metadata": {
        "id": "view-in-github",
        "colab_type": "text"
      },
      "source": [
        "<a href=\"https://colab.research.google.com/github/forkidsai/python/blob/master/Fraction_problems_using_Sympy.ipynb\" target=\"_parent\"><img src=\"https://colab.research.google.com/assets/colab-badge.svg\" alt=\"Open In Colab\"/></a>"
      ]
    },
    {
      "cell_type": "code",
      "metadata": {
        "id": "bWRLfjhbCTKP",
        "colab_type": "code",
        "colab": {}
      },
      "source": [
        "from sympy import *\n",
        "from sympy.interactive.printing import  init_printing"
      ],
      "execution_count": 1,
      "outputs": []
    },
    {
      "cell_type": "markdown",
      "metadata": {
        "id": "DvPUPvAXwEMv",
        "colab_type": "text"
      },
      "source": [
        "# Outline :-\n",
        "\n",
        "- Addition of a Fraction with a Whole Number\n",
        "- Addition of Factions with Different Denominators\n",
        "- Subtraction of Fraction with a Whole Number\n",
        "- Subtraction of Fraction with Different Denominators\n",
        "- Multiplication of Fraction with a Whole Number\n",
        "- Multiplication of Fraction with another Fraction\n",
        "- Division of Fraction by whole Number\n",
        "- Division of Fraction by another Fraction"
      ]
    },
    {
      "cell_type": "markdown",
      "metadata": {
        "id": "8_AFvLdNxQ22",
        "colab_type": "text"
      },
      "source": [
        "### Addition of a Fraction with a Whole Number"
      ]
    },
    {
      "cell_type": "markdown",
      "metadata": {
        "id": "fhVTK3WSygaa",
        "colab_type": "text"
      },
      "source": [
        "(i) $\\frac{10}{11}$ + 8"
      ]
    },
    {
      "cell_type": "code",
      "metadata": {
        "id": "E8OywjrruHjd",
        "colab_type": "code",
        "colab": {
          "base_uri": "https://localhost:8080/",
          "height": 34
        },
        "outputId": "ad4ab08a-b2d4-4ea5-9442-d4f56aceaa8c"
      },
      "source": [
        "Rational(10,11)+8"
      ],
      "execution_count": 2,
      "outputs": [
        {
          "output_type": "execute_result",
          "data": {
            "text/plain": [
              "98/11"
            ]
          },
          "metadata": {
            "tags": []
          },
          "execution_count": 2
        }
      ]
    },
    {
      "cell_type": "markdown",
      "metadata": {
        "id": "AcVP_WfUx6y9",
        "colab_type": "text"
      },
      "source": [
        "(ii) $\\frac{8}{9}$ + 4"
      ]
    },
    {
      "cell_type": "code",
      "metadata": {
        "id": "_oGxh8xByF0l",
        "colab_type": "code",
        "colab": {
          "base_uri": "https://localhost:8080/",
          "height": 34
        },
        "outputId": "05b2fdab-9961-40ae-924d-2bd7ecf7cf8d"
      },
      "source": [
        "Rational(8,9) + 4"
      ],
      "execution_count": 3,
      "outputs": [
        {
          "output_type": "execute_result",
          "data": {
            "text/plain": [
              "44/9"
            ]
          },
          "metadata": {
            "tags": []
          },
          "execution_count": 3
        }
      ]
    },
    {
      "cell_type": "markdown",
      "metadata": {
        "id": "wiPGHHxFyLG6",
        "colab_type": "text"
      },
      "source": [
        "### Addition of Factions with Different Denominators"
      ]
    },
    {
      "cell_type": "markdown",
      "metadata": {
        "id": "t5PQIcVCykOs",
        "colab_type": "text"
      },
      "source": [
        "(i) $\\frac{1}{4}$ + $\\frac{1}{8}$"
      ]
    },
    {
      "cell_type": "code",
      "metadata": {
        "id": "sh_Vu08OzBTP",
        "colab_type": "code",
        "colab": {
          "base_uri": "https://localhost:8080/",
          "height": 34
        },
        "outputId": "b83f5b58-6728-4f0e-9bd1-a21fc655a199"
      },
      "source": [
        "Rational(1,4)+Rational(1,8)"
      ],
      "execution_count": 4,
      "outputs": [
        {
          "output_type": "execute_result",
          "data": {
            "text/plain": [
              "3/8"
            ]
          },
          "metadata": {
            "tags": []
          },
          "execution_count": 4
        }
      ]
    },
    {
      "cell_type": "markdown",
      "metadata": {
        "id": "mjd_wlAWzD2W",
        "colab_type": "text"
      },
      "source": [
        "(ii) $\\frac{1}{3}$ + $\\frac{3}{8}$"
      ]
    },
    {
      "cell_type": "code",
      "metadata": {
        "id": "Z70Dh_XqzU7m",
        "colab_type": "code",
        "colab": {
          "base_uri": "https://localhost:8080/",
          "height": 34
        },
        "outputId": "4c97be99-c344-41d4-edf8-36cfa00fdb99"
      },
      "source": [
        "Rational(1,3)+Rational(3,8)"
      ],
      "execution_count": 5,
      "outputs": [
        {
          "output_type": "execute_result",
          "data": {
            "text/plain": [
              "17/24"
            ]
          },
          "metadata": {
            "tags": []
          },
          "execution_count": 5
        }
      ]
    },
    {
      "cell_type": "markdown",
      "metadata": {
        "id": "qw-CQQh51JWb",
        "colab_type": "text"
      },
      "source": [
        "### Subtraction of Fraction with a Whole Number"
      ]
    },
    {
      "cell_type": "markdown",
      "metadata": {
        "id": "IzYs2OPs1P3c",
        "colab_type": "text"
      },
      "source": [
        "(i) 9 -  $\\frac{4}{9}$"
      ]
    },
    {
      "cell_type": "code",
      "metadata": {
        "id": "Buqqz6tZzSo8",
        "colab_type": "code",
        "colab": {
          "base_uri": "https://localhost:8080/",
          "height": 34
        },
        "outputId": "b7c4b5a3-f96c-4740-92ce-1f5034505fb4"
      },
      "source": [
        "9-Rational(4,9)"
      ],
      "execution_count": 6,
      "outputs": [
        {
          "output_type": "execute_result",
          "data": {
            "text/plain": [
              "77/9"
            ]
          },
          "metadata": {
            "tags": []
          },
          "execution_count": 6
        }
      ]
    },
    {
      "cell_type": "markdown",
      "metadata": {
        "id": "7opt07KX1iPR",
        "colab_type": "text"
      },
      "source": [
        "(ii) 15 -  $\\frac{8}{10}$"
      ]
    },
    {
      "cell_type": "code",
      "metadata": {
        "id": "kLAh_6Ur1r5U",
        "colab_type": "code",
        "colab": {
          "base_uri": "https://localhost:8080/",
          "height": 34
        },
        "outputId": "2e487955-3db9-46fe-93bc-5e1646c1105c"
      },
      "source": [
        "15-Rational(8,10)"
      ],
      "execution_count": 7,
      "outputs": [
        {
          "output_type": "execute_result",
          "data": {
            "text/plain": [
              "71/5"
            ]
          },
          "metadata": {
            "tags": []
          },
          "execution_count": 7
        }
      ]
    },
    {
      "cell_type": "markdown",
      "metadata": {
        "id": "yRt-h33r1tPE",
        "colab_type": "text"
      },
      "source": [
        "### Subtraction of Fraction with Different Denominators"
      ]
    },
    {
      "cell_type": "markdown",
      "metadata": {
        "id": "SAhDHBdK1189",
        "colab_type": "text"
      },
      "source": [
        "(i)  $\\frac{3}{4}$ -  $\\frac{1}{2}$"
      ]
    },
    {
      "cell_type": "code",
      "metadata": {
        "id": "5ojrLeda11Ox",
        "colab_type": "code",
        "colab": {
          "base_uri": "https://localhost:8080/",
          "height": 34
        },
        "outputId": "9a83f0e8-58ae-4a3e-9bb1-5a87e572a3dc"
      },
      "source": [
        "Rational(3,4)+Rational(1,2)"
      ],
      "execution_count": 8,
      "outputs": [
        {
          "output_type": "execute_result",
          "data": {
            "text/plain": [
              "5/4"
            ]
          },
          "metadata": {
            "tags": []
          },
          "execution_count": 8
        }
      ]
    },
    {
      "cell_type": "markdown",
      "metadata": {
        "id": "K9auivxR2JQW",
        "colab_type": "text"
      },
      "source": [
        "(ii)  $\\frac{2}{3}$ -  $\\frac{2}{9}$ - $\\frac{1}{3}$"
      ]
    },
    {
      "cell_type": "code",
      "metadata": {
        "id": "mzHOK--y2XoO",
        "colab_type": "code",
        "colab": {
          "base_uri": "https://localhost:8080/",
          "height": 34
        },
        "outputId": "983cd9c8-d793-49e0-a6e3-4cf945f06308"
      },
      "source": [
        "Rational(2,3)+Rational(2,9)+Rational(1,3)"
      ],
      "execution_count": 9,
      "outputs": [
        {
          "output_type": "execute_result",
          "data": {
            "text/plain": [
              "11/9"
            ]
          },
          "metadata": {
            "tags": []
          },
          "execution_count": 9
        }
      ]
    },
    {
      "cell_type": "markdown",
      "metadata": {
        "id": "rhLrt9cj2ZGf",
        "colab_type": "text"
      },
      "source": [
        "### Multiplication of Fraction with a Whole Number"
      ]
    },
    {
      "cell_type": "markdown",
      "metadata": {
        "id": "zB3oU1Ps2hfU",
        "colab_type": "text"
      },
      "source": [
        "(i) 3 $\\times\\frac{1}{2}$"
      ]
    },
    {
      "cell_type": "code",
      "metadata": {
        "id": "ayI424z72gh7",
        "colab_type": "code",
        "colab": {
          "base_uri": "https://localhost:8080/",
          "height": 34
        },
        "outputId": "4ebd5eb6-c53d-4660-c9ca-02e0e4189b74"
      },
      "source": [
        "3*Rational(1,2)"
      ],
      "execution_count": 10,
      "outputs": [
        {
          "output_type": "execute_result",
          "data": {
            "text/plain": [
              "3/2"
            ]
          },
          "metadata": {
            "tags": []
          },
          "execution_count": 10
        }
      ]
    },
    {
      "cell_type": "markdown",
      "metadata": {
        "id": "71Qi1HrZ21Rt",
        "colab_type": "text"
      },
      "source": [
        "(ii) 7 $\\times\\frac{20}{15}$"
      ]
    },
    {
      "cell_type": "code",
      "metadata": {
        "id": "4jUooz4l28pp",
        "colab_type": "code",
        "colab": {
          "base_uri": "https://localhost:8080/",
          "height": 34
        },
        "outputId": "a7bddf2c-55a1-42e0-e676-9081230fcf7c"
      },
      "source": [
        "7*Rational(20,15)"
      ],
      "execution_count": 11,
      "outputs": [
        {
          "output_type": "execute_result",
          "data": {
            "text/plain": [
              "28/3"
            ]
          },
          "metadata": {
            "tags": []
          },
          "execution_count": 11
        }
      ]
    },
    {
      "cell_type": "markdown",
      "metadata": {
        "id": "KfXBc1WM2-Df",
        "colab_type": "text"
      },
      "source": [
        "### Multiplication of Fraction with another Fraction"
      ]
    },
    {
      "cell_type": "markdown",
      "metadata": {
        "id": "Ct_HE6u73ESS",
        "colab_type": "text"
      },
      "source": [
        "(i) $\\frac{2}{6}\\times\\frac{3}{10}$"
      ]
    },
    {
      "cell_type": "code",
      "metadata": {
        "id": "JPMEb2Gj3C9I",
        "colab_type": "code",
        "colab": {
          "base_uri": "https://localhost:8080/",
          "height": 34
        },
        "outputId": "90fa5c03-0701-4a15-e972-a04a8cb9a1e6"
      },
      "source": [
        "Rational(2,6)*Rational(3,10)"
      ],
      "execution_count": 12,
      "outputs": [
        {
          "output_type": "execute_result",
          "data": {
            "text/plain": [
              "1/10"
            ]
          },
          "metadata": {
            "tags": []
          },
          "execution_count": 12
        }
      ]
    },
    {
      "cell_type": "markdown",
      "metadata": {
        "id": "2rnCL1CB4OGV",
        "colab_type": "text"
      },
      "source": [
        "(i) $\\frac{1}{6}\\times7\\frac{7}{8}$"
      ]
    },
    {
      "cell_type": "code",
      "metadata": {
        "id": "Yp02DXGs4k-2",
        "colab_type": "code",
        "colab": {
          "base_uri": "https://localhost:8080/",
          "height": 34
        },
        "outputId": "a815dad4-9ffd-4ef1-c7c6-b6533787c736"
      },
      "source": [
        "Rational(1,6)*7+Rational(7,8)"
      ],
      "execution_count": 13,
      "outputs": [
        {
          "output_type": "execute_result",
          "data": {
            "text/plain": [
              "49/24"
            ]
          },
          "metadata": {
            "tags": []
          },
          "execution_count": 13
        }
      ]
    },
    {
      "cell_type": "markdown",
      "metadata": {
        "id": "TH9-S2j34mtf",
        "colab_type": "text"
      },
      "source": [
        "### Division of Fraction by whole Number\n"
      ]
    },
    {
      "cell_type": "markdown",
      "metadata": {
        "id": "eKmo7_6S40WM",
        "colab_type": "text"
      },
      "source": [
        "(i) $\\frac{4}{5}\\div5$"
      ]
    },
    {
      "cell_type": "code",
      "metadata": {
        "id": "dTV3B2Ss4yMA",
        "colab_type": "code",
        "colab": {
          "base_uri": "https://localhost:8080/",
          "height": 34
        },
        "outputId": "eacdf249-9aba-4fe7-ffc8-d87f557427a3"
      },
      "source": [
        "Rational(4,5)/5"
      ],
      "execution_count": 14,
      "outputs": [
        {
          "output_type": "execute_result",
          "data": {
            "text/plain": [
              "4/25"
            ]
          },
          "metadata": {
            "tags": []
          },
          "execution_count": 14
        }
      ]
    },
    {
      "cell_type": "markdown",
      "metadata": {
        "id": "612yfat95o-F",
        "colab_type": "text"
      },
      "source": [
        "(ii) $\\frac{10}{12}\\div90$\n"
      ]
    },
    {
      "cell_type": "markdown",
      "metadata": {
        "id": "kwp_FLyE526b",
        "colab_type": "text"
      },
      "source": [
        "### Division of Fraction by another Fraction\n"
      ]
    },
    {
      "cell_type": "markdown",
      "metadata": {
        "id": "BQejbApJ5-QK",
        "colab_type": "text"
      },
      "source": [
        "(ii) $\\frac{3}{4}\\div\\frac{3}{5}$\n"
      ]
    },
    {
      "cell_type": "code",
      "metadata": {
        "id": "dlSSjuZB5yhj",
        "colab_type": "code",
        "colab": {
          "base_uri": "https://localhost:8080/",
          "height": 34
        },
        "outputId": "72174a05-78af-4886-f8e6-b6f4235a7dc1"
      },
      "source": [
        "Rational(3,4)/Rational(3,5)"
      ],
      "execution_count": 15,
      "outputs": [
        {
          "output_type": "execute_result",
          "data": {
            "text/plain": [
              "5/4"
            ]
          },
          "metadata": {
            "tags": []
          },
          "execution_count": 15
        }
      ]
    },
    {
      "cell_type": "markdown",
      "metadata": {
        "id": "R6x4Jscm6Ige",
        "colab_type": "text"
      },
      "source": [
        "(ii) $\\frac{8}{9}\\div\\frac{16}{18}$\n"
      ]
    },
    {
      "cell_type": "code",
      "metadata": {
        "id": "85KMG0kq6NZy",
        "colab_type": "code",
        "colab": {
          "base_uri": "https://localhost:8080/",
          "height": 34
        },
        "outputId": "ec6ab8c1-1d10-4cd6-9027-2668667b652b"
      },
      "source": [
        "Rational(8,9)/Rational(16,18)"
      ],
      "execution_count": 16,
      "outputs": [
        {
          "output_type": "execute_result",
          "data": {
            "text/plain": [
              "1"
            ]
          },
          "metadata": {
            "tags": []
          },
          "execution_count": 16
        }
      ]
    },
    {
      "cell_type": "markdown",
      "metadata": {
        "id": "akdmtLn16QIQ",
        "colab_type": "text"
      },
      "source": [
        "# Summary :-\n",
        "\n",
        "In these Lectures we have learn that how to do basic operations$\\textbf(+ - * /)$ on Fractions using $\\textbf SymPy$. "
      ]
    },
    {
      "cell_type": "code",
      "metadata": {
        "id": "XWR43rPd7mJz",
        "colab_type": "code",
        "colab": {}
      },
      "source": [
        ""
      ],
      "execution_count": null,
      "outputs": []
    }
  ]
}