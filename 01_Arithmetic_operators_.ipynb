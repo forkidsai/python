{
  "nbformat": 4,
  "nbformat_minor": 0,
  "metadata": {
    "colab": {
      "name": "01- Arithmetic operators .ipynb",
      "provenance": [],
      "authorship_tag": "ABX9TyNn+tJAEzOthLvNUzNCHYnH",
      "include_colab_link": true
    },
    "kernelspec": {
      "name": "python3",
      "display_name": "Python 3"
    },
    "accelerator": "GPU"
  },
  "cells": [
    {
      "cell_type": "markdown",
      "metadata": {
        "id": "view-in-github",
        "colab_type": "text"
      },
      "source": [
        "<a href=\"https://colab.research.google.com/github/forkidsai/python/blob/master/01_Arithmetic_operators_.ipynb\" target=\"_parent\"><img src=\"https://colab.research.google.com/assets/colab-badge.svg\" alt=\"Open In Colab\"/></a>"
      ]
    },
    {
      "cell_type": "markdown",
      "metadata": {
        "id": "K5u_CPDbZ-0V",
        "colab_type": "text"
      },
      "source": [
        "# Outline\n",
        "## **There are Four types of operators**\n",
        "\n",
        "- Addition\n",
        "- Subtraction\n",
        "- Multiplication\n",
        "- Division"
      ]
    },
    {
      "cell_type": "markdown",
      "metadata": {
        "id": "mgYyQ6PPa0ii",
        "colab_type": "text"
      },
      "source": [
        "## **Addition :-**"
      ]
    },
    {
      "cell_type": "code",
      "metadata": {
        "id": "4zM3wd0RbfyG",
        "colab_type": "code",
        "colab": {}
      },
      "source": [
        ""
      ],
      "execution_count": 32,
      "outputs": []
    },
    {
      "cell_type": "code",
      "metadata": {
        "id": "h7zbw705bemn",
        "colab_type": "code",
        "colab": {}
      },
      "source": [
        ""
      ],
      "execution_count": 32,
      "outputs": []
    },
    {
      "cell_type": "code",
      "metadata": {
        "id": "18S67uoVbeHW",
        "colab_type": "code",
        "colab": {}
      },
      "source": [
        ""
      ],
      "execution_count": 32,
      "outputs": []
    },
    {
      "cell_type": "markdown",
      "metadata": {
        "id": "5_I9yUKYbj-e",
        "colab_type": "text"
      },
      "source": [
        "## **Subtraction :-**"
      ]
    },
    {
      "cell_type": "code",
      "metadata": {
        "id": "u12s9sUGbuEp",
        "colab_type": "code",
        "colab": {}
      },
      "source": [
        ""
      ],
      "execution_count": 27,
      "outputs": []
    },
    {
      "cell_type": "code",
      "metadata": {
        "id": "8B1ltg2Ubt_o",
        "colab_type": "code",
        "colab": {}
      },
      "source": [
        ""
      ],
      "execution_count": 27,
      "outputs": []
    },
    {
      "cell_type": "code",
      "metadata": {
        "id": "B-r_eJm5bt-n",
        "colab_type": "code",
        "colab": {}
      },
      "source": [
        ""
      ],
      "execution_count": 27,
      "outputs": []
    },
    {
      "cell_type": "markdown",
      "metadata": {
        "id": "GcyG6fnlbytm",
        "colab_type": "text"
      },
      "source": [
        "## **Division :-**\n",
        "Two types of Division\n",
        "\n",
        "- Float Division\n",
        "- Integer Division\n"
      ]
    },
    {
      "cell_type": "code",
      "metadata": {
        "id": "jw8fTDazc0VH",
        "colab_type": "code",
        "colab": {}
      },
      "source": [
        ""
      ],
      "execution_count": 27,
      "outputs": []
    },
    {
      "cell_type": "code",
      "metadata": {
        "id": "NmiXRogmpx6t",
        "colab_type": "code",
        "colab": {}
      },
      "source": [
        ""
      ],
      "execution_count": null,
      "outputs": []
    },
    {
      "cell_type": "code",
      "metadata": {
        "id": "HMbyp3UqpxZa",
        "colab_type": "code",
        "colab": {}
      },
      "source": [
        ""
      ],
      "execution_count": null,
      "outputs": []
    },
    {
      "cell_type": "code",
      "metadata": {
        "id": "xbqzmooMpxH_",
        "colab_type": "code",
        "colab": {}
      },
      "source": [
        ""
      ],
      "execution_count": null,
      "outputs": []
    },
    {
      "cell_type": "code",
      "metadata": {
        "id": "RqHSH_Q6pw2n",
        "colab_type": "code",
        "colab": {}
      },
      "source": [
        ""
      ],
      "execution_count": null,
      "outputs": []
    },
    {
      "cell_type": "code",
      "metadata": {
        "id": "ywCJY-7kcz9g",
        "colab_type": "code",
        "colab": {}
      },
      "source": [
        ""
      ],
      "execution_count": 27,
      "outputs": []
    },
    {
      "cell_type": "markdown",
      "metadata": {
        "id": "2TxAgmX4c266",
        "colab_type": "text"
      },
      "source": [
        "## **Multiplication :-**"
      ]
    },
    {
      "cell_type": "code",
      "metadata": {
        "id": "IRl8RPxmdDHP",
        "colab_type": "code",
        "colab": {}
      },
      "source": [
        ""
      ],
      "execution_count": null,
      "outputs": []
    },
    {
      "cell_type": "code",
      "metadata": {
        "id": "uwUnoLo0dDGO",
        "colab_type": "code",
        "colab": {}
      },
      "source": [
        ""
      ],
      "execution_count": null,
      "outputs": []
    },
    {
      "cell_type": "code",
      "metadata": {
        "id": "KnBdmUY0oJZ_",
        "colab_type": "code",
        "colab": {}
      },
      "source": [
        ""
      ],
      "execution_count": null,
      "outputs": []
    },
    {
      "cell_type": "markdown",
      "metadata": {
        "id": "28K7DEOWoL3t",
        "colab_type": "text"
      },
      "source": [
        "# **Assignment**"
      ]
    },
    {
      "cell_type": "markdown",
      "metadata": {
        "id": "vvVEoAenocu6",
        "colab_type": "text"
      },
      "source": [
        "## **Addition :-**\n",
        "\n",
        "- 2 + 6\n",
        "- 8 + 9\n",
        "- 7 + 8 + 4"
      ]
    },
    {
      "cell_type": "code",
      "metadata": {
        "id": "13nqjAQRo5BD",
        "colab_type": "code",
        "colab": {}
      },
      "source": [
        ""
      ],
      "execution_count": null,
      "outputs": []
    },
    {
      "cell_type": "code",
      "metadata": {
        "id": "Ke8rUcXZo41l",
        "colab_type": "code",
        "colab": {}
      },
      "source": [
        ""
      ],
      "execution_count": null,
      "outputs": []
    },
    {
      "cell_type": "code",
      "metadata": {
        "id": "H0Z-6xJqo6uu",
        "colab_type": "code",
        "colab": {}
      },
      "source": [
        ""
      ],
      "execution_count": null,
      "outputs": []
    },
    {
      "cell_type": "markdown",
      "metadata": {
        "id": "lQ9pefUoo8Hp",
        "colab_type": "text"
      },
      "source": [
        "## **Subtraction :-**\n",
        "\n",
        "- 96 - 5\n",
        "- 1 - 1\n",
        "- 88 - 1"
      ]
    },
    {
      "cell_type": "code",
      "metadata": {
        "id": "RHIQe1SbpRwd",
        "colab_type": "code",
        "colab": {}
      },
      "source": [
        ""
      ],
      "execution_count": null,
      "outputs": []
    },
    {
      "cell_type": "code",
      "metadata": {
        "id": "IBc80JYopUPj",
        "colab_type": "code",
        "colab": {}
      },
      "source": [
        ""
      ],
      "execution_count": null,
      "outputs": []
    },
    {
      "cell_type": "code",
      "metadata": {
        "id": "tjgXQV8BpTfw",
        "colab_type": "code",
        "colab": {}
      },
      "source": [
        ""
      ],
      "execution_count": null,
      "outputs": []
    },
    {
      "cell_type": "markdown",
      "metadata": {
        "id": "jpS8anUdpVeF",
        "colab_type": "text"
      },
      "source": [
        "## **Multipliction :-**\n",
        "\n",
        "- 8 * 9\n",
        "- 6 * 6\n",
        "- 4 * 4"
      ]
    },
    {
      "cell_type": "code",
      "metadata": {
        "id": "y7v5O0VyqziU",
        "colab_type": "code",
        "colab": {}
      },
      "source": [
        ""
      ],
      "execution_count": null,
      "outputs": []
    },
    {
      "cell_type": "code",
      "metadata": {
        "id": "jZZcKmspppLU",
        "colab_type": "code",
        "colab": {}
      },
      "source": [
        ""
      ],
      "execution_count": null,
      "outputs": []
    },
    {
      "cell_type": "code",
      "metadata": {
        "id": "5V_vgWkOpo5c",
        "colab_type": "code",
        "colab": {}
      },
      "source": [
        ""
      ],
      "execution_count": null,
      "outputs": []
    },
    {
      "cell_type": "markdown",
      "metadata": {
        "id": "Ulo7Biw7qRP6",
        "colab_type": "text"
      },
      "source": [
        "## **Division :-**\n",
        "\n",
        "- 4 / 2\n",
        "- 9 / 3\n",
        "- 24 / 7"
      ]
    },
    {
      "cell_type": "code",
      "metadata": {
        "id": "7xfSMfMIqRBa",
        "colab_type": "code",
        "colab": {}
      },
      "source": [
        ""
      ],
      "execution_count": null,
      "outputs": []
    },
    {
      "cell_type": "code",
      "metadata": {
        "id": "l29Xxp5aqxuz",
        "colab_type": "code",
        "colab": {}
      },
      "source": [
        ""
      ],
      "execution_count": null,
      "outputs": []
    },
    {
      "cell_type": "code",
      "metadata": {
        "id": "eYw0E_1adDAm",
        "colab_type": "code",
        "colab": {}
      },
      "source": [
        ""
      ],
      "execution_count": null,
      "outputs": []
    }
  ]
}