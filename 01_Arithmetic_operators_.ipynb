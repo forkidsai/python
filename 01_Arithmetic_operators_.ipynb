{
  "nbformat": 4,
  "nbformat_minor": 0,
  "metadata": {
    "colab": {
      "name": "01- Arithmetic operators .ipynb",
      "provenance": [],
      "authorship_tag": "ABX9TyO8El4QD+mMJdoK3RltN73K",
      "include_colab_link": true
    },
    "kernelspec": {
      "name": "python3",
      "display_name": "Python 3"
    },
    "accelerator": "GPU"
  },
  "cells": [
    {
      "cell_type": "markdown",
      "metadata": {
        "id": "view-in-github",
        "colab_type": "text"
      },
      "source": [
        "<a href=\"https://colab.research.google.com/github/forkidsai/python/blob/master/01_Arithmetic_operators_.ipynb\" target=\"_parent\"><img src=\"https://colab.research.google.com/assets/colab-badge.svg\" alt=\"Open In Colab\"/></a>"
      ]
    },
    {
      "cell_type": "markdown",
      "metadata": {
        "id": "K5u_CPDbZ-0V",
        "colab_type": "text"
      },
      "source": [
        "# Outline\n",
        "## **There are Four types of operators**\n",
        "\n",
        "- Addition\n",
        "- Subtraction\n",
        "- Multiplication\n",
        "- Division"
      ]
    },
    {
      "cell_type": "markdown",
      "metadata": {
        "id": "mgYyQ6PPa0ii",
        "colab_type": "text"
      },
      "source": [
        "## **Addition :-**"
      ]
    },
    {
      "cell_type": "code",
      "metadata": {
        "id": "4zM3wd0RbfyG",
        "colab_type": "code",
        "colab": {}
      },
      "source": [
        ""
      ],
      "execution_count": null,
      "outputs": []
    },
    {
      "cell_type": "code",
      "metadata": {
        "id": "h7zbw705bemn",
        "colab_type": "code",
        "colab": {}
      },
      "source": [
        ""
      ],
      "execution_count": null,
      "outputs": []
    },
    {
      "cell_type": "code",
      "metadata": {
        "id": "18S67uoVbeHW",
        "colab_type": "code",
        "colab": {}
      },
      "source": [
        ""
      ],
      "execution_count": null,
      "outputs": []
    },
    {
      "cell_type": "markdown",
      "metadata": {
        "id": "5_I9yUKYbj-e",
        "colab_type": "text"
      },
      "source": [
        "## **Subtraction :-**"
      ]
    },
    {
      "cell_type": "code",
      "metadata": {
        "id": "u12s9sUGbuEp",
        "colab_type": "code",
        "colab": {}
      },
      "source": [
        ""
      ],
      "execution_count": null,
      "outputs": []
    },
    {
      "cell_type": "code",
      "metadata": {
        "id": "8B1ltg2Ubt_o",
        "colab_type": "code",
        "colab": {}
      },
      "source": [
        ""
      ],
      "execution_count": null,
      "outputs": []
    },
    {
      "cell_type": "code",
      "metadata": {
        "id": "B-r_eJm5bt-n",
        "colab_type": "code",
        "colab": {}
      },
      "source": [
        ""
      ],
      "execution_count": null,
      "outputs": []
    },
    {
      "cell_type": "markdown",
      "metadata": {
        "id": "GcyG6fnlbytm",
        "colab_type": "text"
      },
      "source": [
        "## **Division :-**\n",
        "Two types of Division\n",
        "\n",
        "- Float Division\n",
        "- Integer Division\n"
      ]
    },
    {
      "cell_type": "code",
      "metadata": {
        "id": "jw8fTDazc0VH",
        "colab_type": "code",
        "colab": {}
      },
      "source": [
        ""
      ],
      "execution_count": null,
      "outputs": []
    },
    {
      "cell_type": "code",
      "metadata": {
        "id": "PV2ztEbkcz_Y",
        "colab_type": "code",
        "colab": {}
      },
      "source": [
        ""
      ],
      "execution_count": null,
      "outputs": []
    },
    {
      "cell_type": "code",
      "metadata": {
        "id": "ywCJY-7kcz9g",
        "colab_type": "code",
        "colab": {}
      },
      "source": [
        ""
      ],
      "execution_count": null,
      "outputs": []
    },
    {
      "cell_type": "markdown",
      "metadata": {
        "id": "2TxAgmX4c266",
        "colab_type": "text"
      },
      "source": [
        "## **Multiplication :-**"
      ]
    },
    {
      "cell_type": "code",
      "metadata": {
        "id": "IRl8RPxmdDHP",
        "colab_type": "code",
        "colab": {}
      },
      "source": [
        ""
      ],
      "execution_count": null,
      "outputs": []
    },
    {
      "cell_type": "code",
      "metadata": {
        "id": "uwUnoLo0dDGO",
        "colab_type": "code",
        "colab": {}
      },
      "source": [
        ""
      ],
      "execution_count": null,
      "outputs": []
    },
    {
      "cell_type": "code",
      "metadata": {
        "id": "eYw0E_1adDAm",
        "colab_type": "code",
        "colab": {}
      },
      "source": [
        ""
      ],
      "execution_count": null,
      "outputs": []
    },
    {
      "cell_type": "code",
      "metadata": {
        "id": "QMC2waNVdC_t",
        "colab_type": "code",
        "colab": {}
      },
      "source": [
        ""
      ],
      "execution_count": null,
      "outputs": []
    },
    {
      "cell_type": "code",
      "metadata": {
        "id": "dJKPDjYiaozl",
        "colab_type": "code",
        "colab": {}
      },
      "source": [
        ""
      ],
      "execution_count": 5,
      "outputs": []
    }
  ]
}